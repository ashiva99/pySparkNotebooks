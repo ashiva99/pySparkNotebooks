{
 "cells": [
  {
   "cell_type": "markdown",
   "metadata": {},
   "source": [
    "- Import necessary modules (`pyspark.sql.SparkSession`)\n",
    "- Create a Spark session\n",
    "- Load a CSV file into a Spark DataFrame (`df`)\n",
    "- Display the first few rows of the DataFrame using `show()`\n",
    "- Check the schema of the DataFrame using `printSchema()`\n",
    "- Retrieve the type of the DataFrame\n",
    "- List the columns of the DataFrame\n",
    "- Select specific columns from the DataFrame\n",
    "- Add a new column to the DataFrame (`bonus_salary`)\n",
    "- Rename a column in the DataFrame (`name` to `full_name`)\n",
    "- Drop a column from the DataFrame (`bonus_salary`)\n",
    "- Described the DataFrame using `describe().show()`"
   ]
  },
  {
   "cell_type": "code",
   "execution_count": 2,
   "metadata": {},
   "outputs": [],
   "source": [
    "from pyspark.sql import SparkSession"
   ]
  },
  {
   "cell_type": "code",
   "execution_count": 3,
   "metadata": {},
   "outputs": [
    {
     "name": "stderr",
     "output_type": "stream",
     "text": [
      "Setting default log level to \"WARN\".\n",
      "To adjust logging level use sc.setLogLevel(newLevel). For SparkR, use setLogLevel(newLevel).\n",
      "25/03/20 01:39:35 WARN NativeCodeLoader: Unable to load native-hadoop library for your platform... using builtin-java classes where applicable\n",
      "25/03/20 01:39:36 WARN Utils: Service 'SparkUI' could not bind on port 4040. Attempting port 4041.\n"
     ]
    }
   ],
   "source": [
    "spark = SparkSession.builder.appName(\"DataFrame\").getOrCreate()"
   ]
  },
  {
   "cell_type": "code",
   "execution_count": 4,
   "metadata": {},
   "outputs": [
    {
     "data": {
      "text/html": [
       "\n",
       "            <div>\n",
       "                <p><b>SparkSession - in-memory</b></p>\n",
       "                \n",
       "        <div>\n",
       "            <p><b>SparkContext</b></p>\n",
       "\n",
       "            <p><a href=\"http://tinkuserver:4041\">Spark UI</a></p>\n",
       "\n",
       "            <dl>\n",
       "              <dt>Version</dt>\n",
       "                <dd><code>v3.5.5</code></dd>\n",
       "              <dt>Master</dt>\n",
       "                <dd><code>local[*]</code></dd>\n",
       "              <dt>AppName</dt>\n",
       "                <dd><code>DataFrame</code></dd>\n",
       "            </dl>\n",
       "        </div>\n",
       "        \n",
       "            </div>\n",
       "        "
      ],
      "text/plain": [
       "<pyspark.sql.session.SparkSession at 0x7708bc9c3bf0>"
      ]
     },
     "execution_count": 4,
     "metadata": {},
     "output_type": "execute_result"
    }
   ],
   "source": [
    "spark "
   ]
  },
  {
   "cell_type": "code",
   "execution_count": 58,
   "metadata": {},
   "outputs": [],
   "source": [
    "df = spark.read.csv(\"csvFiles/empexp.csv\", header=True, inferSchema=True)"
   ]
  },
  {
   "cell_type": "code",
   "execution_count": 18,
   "metadata": {},
   "outputs": [
    {
     "name": "stdout",
     "output_type": "stream",
     "text": [
      "+-------------+---+----------+------+\n",
      "|         name|age|experience|salary|\n",
      "+-------------+---+----------+------+\n",
      "|     John Doe| 28|         5| 50000|\n",
      "|   Jane Smith| 34|        10| 70000|\n",
      "|Alice Johnson| 25|         3| 45000|\n",
      "|    Bob Brown| 45|        20| 90000|\n",
      "|Charlie Davis| 30|         7| 60000|\n",
      "+-------------+---+----------+------+\n",
      "only showing top 5 rows\n",
      "\n"
     ]
    }
   ],
   "source": [
    "df.show(5)"
   ]
  },
  {
   "cell_type": "code",
   "execution_count": 21,
   "metadata": {},
   "outputs": [
    {
     "data": {
      "text/plain": [
       "[Row(name='John Doe', age=28, experience=5, salary=50000),\n",
       " Row(name='Jane Smith', age=34, experience=10, salary=70000),\n",
       " Row(name='Alice Johnson', age=25, experience=3, salary=45000)]"
      ]
     },
     "execution_count": 21,
     "metadata": {},
     "output_type": "execute_result"
    }
   ],
   "source": [
    "df.head(3)"
   ]
  },
  {
   "cell_type": "code",
   "execution_count": 22,
   "metadata": {},
   "outputs": [
    {
     "name": "stdout",
     "output_type": "stream",
     "text": [
      "+-------------+---+----------+------+\n",
      "|         name|age|experience|salary|\n",
      "+-------------+---+----------+------+\n",
      "|     John Doe| 28|         5| 50000|\n",
      "|   Jane Smith| 34|        10| 70000|\n",
      "|Alice Johnson| 25|         3| 45000|\n",
      "+-------------+---+----------+------+\n",
      "only showing top 3 rows\n",
      "\n"
     ]
    }
   ],
   "source": [
    "df.show(3)"
   ]
  },
  {
   "cell_type": "code",
   "execution_count": 24,
   "metadata": {},
   "outputs": [
    {
     "name": "stdout",
     "output_type": "stream",
     "text": [
      "root\n",
      " |-- name: string (nullable = true)\n",
      " |-- age: integer (nullable = true)\n",
      " |-- experience: integer (nullable = true)\n",
      " |-- salary: integer (nullable = true)\n",
      "\n"
     ]
    }
   ],
   "source": [
    "df.printSchema()  # check the data types of the columns(schema)"
   ]
  },
  {
   "cell_type": "code",
   "execution_count": 25,
   "metadata": {},
   "outputs": [
    {
     "data": {
      "text/plain": [
       "pyspark.sql.dataframe.DataFrame"
      ]
     },
     "execution_count": 25,
     "metadata": {},
     "output_type": "execute_result"
    }
   ],
   "source": [
    "type(df)"
   ]
  },
  {
   "cell_type": "code",
   "execution_count": 26,
   "metadata": {},
   "outputs": [
    {
     "data": {
      "text/plain": [
       "['name', 'age', 'experience', 'salary']"
      ]
     },
     "execution_count": 26,
     "metadata": {},
     "output_type": "execute_result"
    }
   ],
   "source": [
    "df.columns"
   ]
  },
  {
   "cell_type": "code",
   "execution_count": 30,
   "metadata": {},
   "outputs": [
    {
     "name": "stdout",
     "output_type": "stream",
     "text": [
      "+-------------+\n",
      "|         name|\n",
      "+-------------+\n",
      "|     John Doe|\n",
      "|   Jane Smith|\n",
      "|Alice Johnson|\n",
      "|    Bob Brown|\n",
      "|Charlie Davis|\n",
      "+-------------+\n",
      "only showing top 5 rows\n",
      "\n"
     ]
    }
   ],
   "source": [
    "df.select(\"name\").show(5) # select a column"
   ]
  },
  {
   "cell_type": "code",
   "execution_count": 31,
   "metadata": {},
   "outputs": [
    {
     "name": "stdout",
     "output_type": "stream",
     "text": [
      "+-------------+------+\n",
      "|         name|salary|\n",
      "+-------------+------+\n",
      "|     John Doe| 50000|\n",
      "|   Jane Smith| 70000|\n",
      "|Alice Johnson| 45000|\n",
      "|    Bob Brown| 90000|\n",
      "|Charlie Davis| 60000|\n",
      "+-------------+------+\n",
      "only showing top 5 rows\n",
      "\n"
     ]
    }
   ],
   "source": [
    "df.select([\"name\", \"salary\"]).show(5) # select multiple columns"
   ]
  },
  {
   "cell_type": "code",
   "execution_count": 34,
   "metadata": {},
   "outputs": [
    {
     "data": {
      "text/plain": [
       "Column<'name'>"
      ]
     },
     "execution_count": 34,
     "metadata": {},
     "output_type": "execute_result"
    }
   ],
   "source": [
    "df['name']"
   ]
  },
  {
   "cell_type": "code",
   "execution_count": 35,
   "metadata": {},
   "outputs": [
    {
     "data": {
      "text/plain": [
       "[('name', 'string'), ('age', 'int'), ('experience', 'int'), ('salary', 'int')]"
      ]
     },
     "execution_count": 35,
     "metadata": {},
     "output_type": "execute_result"
    }
   ],
   "source": [
    "df.dtypes"
   ]
  },
  {
   "cell_type": "code",
   "execution_count": 37,
   "metadata": {},
   "outputs": [
    {
     "name": "stdout",
     "output_type": "stream",
     "text": [
      "+-------------+---+----------+------+\n",
      "|         name|age|experience|salary|\n",
      "+-------------+---+----------+------+\n",
      "|     John Doe| 28|         5| 50000|\n",
      "|   Jane Smith| 34|        10| 70000|\n",
      "|Alice Johnson| 25|         3| 45000|\n",
      "|    Bob Brown| 45|        20| 90000|\n",
      "|Charlie Davis| 30|         7| 60000|\n",
      "+-------------+---+----------+------+\n",
      "only showing top 5 rows\n",
      "\n"
     ]
    }
   ],
   "source": [
    "df.show(5)"
   ]
  },
  {
   "cell_type": "code",
   "execution_count": 41,
   "metadata": {},
   "outputs": [
    {
     "name": "stdout",
     "output_type": "stream",
     "text": [
      "+-------+-------------+-----------------+-----------------+------------------+\n",
      "|summary|         name|              age|       experience|            salary|\n",
      "+-------+-------------+-----------------+-----------------+------------------+\n",
      "|  count|           20|               20|               20|                20|\n",
      "|   mean|         NULL|             32.4|             8.95|           63850.0|\n",
      "| stddev|         NULL|5.761944116355173|4.936171540139606|14187.744897028488|\n",
      "|    min|Alice Johnson|               24|                2|             42000|\n",
      "|    max|Rachel Carter|               45|               20|             90000|\n",
      "+-------+-------------+-----------------+-----------------+------------------+\n",
      "\n"
     ]
    }
   ],
   "source": [
    "df.describe().show()"
   ]
  },
  {
   "cell_type": "markdown",
   "metadata": {},
   "source": [
    "Adding columns in dataframe"
   ]
  },
  {
   "cell_type": "code",
   "execution_count": 60,
   "metadata": {},
   "outputs": [],
   "source": [
    "df = df.withColumn(\"bonus_salary\", df['salary']+500)"
   ]
  },
  {
   "cell_type": "code",
   "execution_count": 61,
   "metadata": {},
   "outputs": [
    {
     "name": "stdout",
     "output_type": "stream",
     "text": [
      "+-------------+---+----------+------+------------+\n",
      "|         name|age|experience|salary|bonus_salary|\n",
      "+-------------+---+----------+------+------------+\n",
      "|     John Doe| 28|         5| 50000|       50500|\n",
      "|   Jane Smith| 34|        10| 70000|       70500|\n",
      "|Alice Johnson| 25|         3| 45000|       45500|\n",
      "|    Bob Brown| 45|        20| 90000|       90500|\n",
      "|Charlie Davis| 30|         7| 60000|       60500|\n",
      "+-------------+---+----------+------+------------+\n",
      "only showing top 5 rows\n",
      "\n"
     ]
    }
   ],
   "source": [
    "df.show(5)"
   ]
  },
  {
   "cell_type": "code",
   "execution_count": 62,
   "metadata": {},
   "outputs": [],
   "source": [
    "df = df.withColumnRenamed(\"name\", \"full_name\")"
   ]
  },
  {
   "cell_type": "code",
   "execution_count": 63,
   "metadata": {},
   "outputs": [
    {
     "name": "stdout",
     "output_type": "stream",
     "text": [
      "+-------------+---+----------+------+------------+\n",
      "|    full_name|age|experience|salary|bonus_salary|\n",
      "+-------------+---+----------+------+------------+\n",
      "|     John Doe| 28|         5| 50000|       50500|\n",
      "|   Jane Smith| 34|        10| 70000|       70500|\n",
      "|Alice Johnson| 25|         3| 45000|       45500|\n",
      "|    Bob Brown| 45|        20| 90000|       90500|\n",
      "|Charlie Davis| 30|         7| 60000|       60500|\n",
      "+-------------+---+----------+------+------------+\n",
      "only showing top 5 rows\n",
      "\n"
     ]
    }
   ],
   "source": [
    "df.show(5)"
   ]
  },
  {
   "cell_type": "code",
   "execution_count": 67,
   "metadata": {},
   "outputs": [],
   "source": [
    "df = df.drop(\"bonus_salary\")"
   ]
  },
  {
   "cell_type": "code",
   "execution_count": 68,
   "metadata": {},
   "outputs": [
    {
     "name": "stdout",
     "output_type": "stream",
     "text": [
      "+-------------+---+----------+------+\n",
      "|    full_name|age|experience|salary|\n",
      "+-------------+---+----------+------+\n",
      "|     John Doe| 28|         5| 50000|\n",
      "|   Jane Smith| 34|        10| 70000|\n",
      "|Alice Johnson| 25|         3| 45000|\n",
      "|    Bob Brown| 45|        20| 90000|\n",
      "|Charlie Davis| 30|         7| 60000|\n",
      "+-------------+---+----------+------+\n",
      "only showing top 5 rows\n",
      "\n"
     ]
    }
   ],
   "source": [
    "df.show(5)"
   ]
  },
  {
   "cell_type": "code",
   "execution_count": null,
   "metadata": {},
   "outputs": [],
   "source": []
  }
 ],
 "metadata": {
  "kernelspec": {
   "display_name": "PyPractices",
   "language": "python",
   "name": "python3"
  },
  "language_info": {
   "codemirror_mode": {
    "name": "ipython",
    "version": 3
   },
   "file_extension": ".py",
   "mimetype": "text/x-python",
   "name": "python",
   "nbconvert_exporter": "python",
   "pygments_lexer": "ipython3",
   "version": "3.12.3"
  }
 },
 "nbformat": 4,
 "nbformat_minor": 2
}
